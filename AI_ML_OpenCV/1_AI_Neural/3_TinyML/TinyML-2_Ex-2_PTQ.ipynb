{
 "metadata": {
  "language_info": {
   "codemirror_mode": {
    "name": "ipython",
    "version": 3
   },
   "file_extension": ".py",
   "mimetype": "text/x-python",
   "name": "python",
   "nbconvert_exporter": "python",
   "pygments_lexer": "ipython3",
   "version": "3.7.6-final"
  },
  "orig_nbformat": 2,
  "kernelspec": {
   "name": "python3",
   "display_name": "Python 3.7.6 64-bit",
   "metadata": {
    "interpreter": {
     "hash": "d365c0b3baf7e9c62ec555ad7ca32fde941fa57095ca99660f7de5d7d21d6835"
    }
   }
  }
 },
 "nbformat": 4,
 "nbformat_minor": 2,
 "cells": [
  {
   "cell_type": "code",
   "execution_count": 2,
   "metadata": {
    "tags": []
   },
   "outputs": [],
   "source": [
    "import matplotlib.pyplot as plt\n",
    "import numpy as np\n",
    "import pprint\n",
    "import re\n",
    "import sys\n",
    "\n",
    "#For tensorflow lite work\n",
    "import logging\n",
    "logging.getLogger(\"tensorflow\").setLevel(logging.DEBUG)\n",
    "import tensorflow as tf\n",
    "from tensorflow import keras\n",
    "import pathlib\n",
    "import pprint\n",
    "import re\n",
    "import sys"
   ]
  },
  {
   "cell_type": "code",
   "execution_count": 3,
   "metadata": {},
   "outputs": [],
   "source": [
    "weights = np.random.randn(256, 256)"
   ]
  },
  {
   "cell_type": "code",
   "execution_count": 4,
   "metadata": {},
   "outputs": [],
   "source": [
    "def quantizeAndReconstruct(weights):\n",
    "    #Scale the fp32 (floating point) values to int-8 (byte) integer values\n",
    "    \n",
    "    #First compute the range of weights\n",
    "    max_weight = np.max(weights)\n",
    "    min_weight = np.min(weights)\n",
    "    range = max_weight - min_weight\n",
    "    max_int8 = 2**8\n",
    "\n",
    "    #Compute the scale\n",
    "    scale = range / max_int8\n",
    "\n",
    "    #Compute the midpoint\n",
    "    midpoint = np.mean([max_weight, min_weight])\n",
    "\n",
    "    #Next thing is to map the real fp32 with integer (int-8). By diving the weight \n",
    "    # matrix with the scale, the weight matrix has a range between (-128, 127). \n",
    "    # Now, we can simply round the full precision numbers to the closest integers.\n",
    "\n",
    "    centered_weights = weights - midpoint\n",
    "    quantized_weights = np.rint(centered_weights / scale)\n",
    "\n",
    "    #Now reconstruct back to the fp32\n",
    "    reconstructed_weights = scale * quantized_weights + midpoint\n",
    "    return reconstructed_weights"
   ]
  },
  {
   "cell_type": "code",
   "execution_count": 5,
   "metadata": {},
   "outputs": [
    {
     "output_type": "stream",
     "name": "stdout",
     "text": [
      "Original weight matrix \n [[ 1.75334486 -1.20007517 -0.27848418 ... -0.70478553 -0.21130858\n   0.99372629]\n [ 1.04166994 -1.28944703 -0.68784436 ...  1.15126735  1.80079889\n   0.04714907]\n [-0.44399388 -0.10396778  1.62242267 ... -0.49975811 -1.33477914\n  -0.93284698]\n ...\n [ 0.99860362 -0.61488108  0.59464445 ...  1.3878707  -0.49331756\n   1.20545287]\n [-0.56413876  0.56237023 -0.18829901 ... -0.54172951 -1.08052405\n   1.14641319]\n [-1.22615241  0.42857581  0.92450901 ... -1.08723349  0.24530115\n  -0.30038353]]\nWeighted matrix after reconstruction \n [[ 1.75546721 -1.19364473 -0.26776075 ... -0.71355674 -0.19917675\n   1.00104323]\n [ 1.03533523 -1.29652073 -0.67926474 ...  1.13821122  1.78975921\n   0.04086724]\n [-0.43922075 -0.09630075  1.61829922 ... -0.50780474 -1.33081273\n  -0.91930874]\n ...\n [ 1.00104323 -0.61068074  0.58953923 ...  1.37825522 -0.50780474\n   1.20679522]\n [-0.57638874  0.55524724 -0.19917675 ... -0.54209674 -1.09076873\n   1.13821122]\n [-1.22793673  0.41807924  0.93245923 ... -1.09076873  0.24661924\n  -0.30205275]]\nMax error:  0.01714454693000167\n"
     ]
    },
    {
     "output_type": "execute_result",
     "data": {
      "text/plain": [
       "(256, 256)"
      ]
     },
     "metadata": {},
     "execution_count": 5
    }
   ],
   "source": [
    "reconstructed_weights = quantizeAndReconstruct(weights)\n",
    "print(\"Original weight matrix \\n\", weights)\n",
    "print(\"Weighted matrix after reconstruction \\n\", reconstructed_weights)\n",
    "errors = reconstructed_weights - weights\n",
    "max_error = np.max(errors)\n",
    "print(\"Max error: \", max_error)\n",
    "reconstructed_weights.shape"
   ]
  },
  {
   "cell_type": "code",
   "execution_count": 6,
   "metadata": {},
   "outputs": [
    {
     "output_type": "execute_result",
     "data": {
      "text/plain": [
       "(229,)"
      ]
     },
     "metadata": {},
     "execution_count": 6
    }
   ],
   "source": [
    "np.unique(quantizeAndReconstruct(weights)).shape"
   ]
  },
  {
   "cell_type": "code",
   "execution_count": null,
   "metadata": {},
   "outputs": [],
   "source": []
  }
 ]
}