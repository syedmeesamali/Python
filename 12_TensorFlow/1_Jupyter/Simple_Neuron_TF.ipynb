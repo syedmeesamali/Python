{
 "cells": [
  {
   "cell_type": "code",
   "execution_count": 1,
   "metadata": {},
   "outputs": [],
   "source": [
    "# First import the functions we will need\n",
    "from __future__ import absolute_import, division, print_function, unicode_literals\n",
    "try:\n",
    "  # %tensorflow_version only exists in Colab.\n",
    "  %tensorflow_version 2.x\n",
    "except Exception:\n",
    "  pass\n",
    "\n",
    "import tensorflow as tf\n",
    "import numpy as np\n",
    "import matplotlib.pyplot as plt"
   ]
  },
  {
   "cell_type": "code",
   "execution_count": 2,
   "metadata": {},
   "outputs": [],
   "source": [
    "# Define our initial guess\n",
    "INITIAL_W = 10.0\n",
    "INITIAL_B = 10.0\n",
    "\n",
    "# Define our loss function\n",
    "def loss(predicted_y, target_y):\n",
    "    return tf.reduce_mean(tf.square(predicted_y - target_y))\n",
    "\n",
    "# Define our training procedure\n",
    "def train(model, inputs, outputs, learning_rate):\n",
    "    with tf.GradientTape() as t:\n",
    "        current_loss = loss(model(inputs), outputs)\n",
    "        # Here is where you differentiate the model values with respect to the loss function\n",
    "        dw, db = t.gradient(current_loss, [model.w, model.b])\n",
    "        # And here is where you update the model values based on the learning rate chosen\n",
    "        model.w.assign_sub(learning_rate * dw)\n",
    "        model.b.assign_sub(learning_rate * db)\n",
    "        return current_loss\n",
    "\n",
    "# Define our simple linear regression model\n",
    "class Model(object):\n",
    "    def __init__(self):\n",
    "        # Initialize the weights\n",
    "        self.w = tf.Variable(INITIAL_W)\n",
    "        self.b = tf.Variable(INITIAL_B)\n",
    "\n",
    "    def __call__(self, x):\n",
    "        return self.w * x + self.b\n",
    "    "
   ]
  },
  {
   "cell_type": "code",
   "execution_count": 7,
   "metadata": {},
   "outputs": [
    {
     "name": "stdout",
     "output_type": "stream",
     "text": [
      "Epoch  0: w=10.00 b=10.00, loss=489.00000\n",
      "Epoch  1: w=-3.30 b=2.78, loss=58.49041\n",
      "Epoch  2: w=1.31 b=3.36, loss=14.38342\n",
      "Epoch  3: w=0.44 b=1.97, loss=6.83832\n",
      "Epoch  4: w=1.09 b=1.43, loss=3.96874\n",
      "Epoch  5: w=1.20 b=0.85, loss=2.38401\n",
      "Epoch  6: w=1.41 b=0.45, loss=1.43950\n",
      "Epoch  7: w=1.53 b=0.12, loss=0.86985\n",
      "Epoch  8: w=1.64 b=-0.12, loss=0.52569\n",
      "Epoch  9: w=1.72 b=-0.32, loss=0.31770\n",
      "Epoch 10: w=1.78 b=-0.47, loss=0.19200\n",
      "Epoch 11: w=1.83 b=-0.59, loss=0.11604\n",
      "Epoch 12: w=1.87 b=-0.68, loss=0.07013\n",
      "Epoch 13: w=1.90 b=-0.75, loss=0.04238\n",
      "Epoch 14: w=1.92 b=-0.81, loss=0.02561\n",
      "Epoch 15: w=1.94 b=-0.85, loss=0.01548\n",
      "Epoch 16: w=1.95 b=-0.88, loss=0.00936\n",
      "Epoch 17: w=1.96 b=-0.91, loss=0.00565\n",
      "Epoch 18: w=1.97 b=-0.93, loss=0.00342\n",
      "Epoch 19: w=1.98 b=-0.95, loss=0.00206\n",
      "Epoch 20: w=1.98 b=-0.96, loss=0.00125\n",
      "Epoch 21: w=1.99 b=-0.97, loss=0.00075\n",
      "Epoch 22: w=1.99 b=-0.97, loss=0.00046\n",
      "Epoch 23: w=1.99 b=-0.98, loss=0.00028\n",
      "Epoch 24: w=1.99 b=-0.98, loss=0.00017\n",
      "Epoch 25: w=1.99 b=-0.99, loss=0.00010\n",
      "Epoch 26: w=2.00 b=-0.99, loss=0.00006\n",
      "Epoch 27: w=2.00 b=-0.99, loss=0.00004\n",
      "Epoch 28: w=2.00 b=-0.99, loss=0.00002\n",
      "Epoch 29: w=2.00 b=-1.00, loss=0.00001\n",
      "Epoch 30: w=2.00 b=-1.00, loss=0.00001\n",
      "Epoch 31: w=2.00 b=-1.00, loss=0.00000\n",
      "Epoch 32: w=2.00 b=-1.00, loss=0.00000\n",
      "Epoch 33: w=2.00 b=-1.00, loss=0.00000\n",
      "Epoch 34: w=2.00 b=-1.00, loss=0.00000\n",
      "Epoch 35: w=2.00 b=-1.00, loss=0.00000\n",
      "Epoch 36: w=2.00 b=-1.00, loss=0.00000\n",
      "Epoch 37: w=2.00 b=-1.00, loss=0.00000\n",
      "Epoch 38: w=2.00 b=-1.00, loss=0.00000\n",
      "Epoch 39: w=2.00 b=-1.00, loss=0.00000\n",
      "Epoch 40: w=2.00 b=-1.00, loss=0.00000\n",
      "Epoch 41: w=2.00 b=-1.00, loss=0.00000\n",
      "Epoch 42: w=2.00 b=-1.00, loss=0.00000\n",
      "Epoch 43: w=2.00 b=-1.00, loss=0.00000\n",
      "Epoch 44: w=2.00 b=-1.00, loss=0.00000\n",
      "Epoch 45: w=2.00 b=-1.00, loss=0.00000\n",
      "Epoch 46: w=2.00 b=-1.00, loss=0.00000\n",
      "Epoch 47: w=2.00 b=-1.00, loss=0.00000\n",
      "Epoch 48: w=2.00 b=-1.00, loss=0.00000\n",
      "Epoch 49: w=2.00 b=-1.00, loss=0.00000\n"
     ]
    }
   ],
   "source": [
    "# Define our input data and learning rate\n",
    "xs = [-1.0, 0.0, 1.0, 2.0, 3.0]\n",
    "ys = [-3.0, -1.0, 1.0, 3.0, 5.0]\n",
    "LEARNING_RATE=0.19\n",
    "\n",
    "# Instantiate our model\n",
    "model = Model()\n",
    "\n",
    "# Collect the history of w-values and b-values to plot later\n",
    "list_w, list_b = [], []\n",
    "epochs = range(50)\n",
    "losses = []\n",
    "for epoch in epochs:\n",
    "    list_w.append(model.w.numpy())\n",
    "    list_b.append(model.b.numpy())\n",
    "    current_loss = train(model, xs, ys, learning_rate=LEARNING_RATE)\n",
    "    losses.append(current_loss)\n",
    "    print('Epoch %2d: w=%1.2f b=%1.2f, loss=%2.5f' %\n",
    "        (epoch, list_w[-1], list_b[-1], current_loss))"
   ]
  },
  {
   "cell_type": "code",
   "execution_count": 8,
   "metadata": {},
   "outputs": [
    {
     "data": {
      "image/png": "[encoded data removed]",
      "text/plain": [
       "<Figure size 432x288 with 1 Axes>"
      ]
     },
     "metadata": {
      "needs_background": "light"
     },
     "output_type": "display_data"
    }
   ],
   "source": [
    "# Plot the w-values and b-values for each training Epoch against the true values\n",
    "TRUE_w = 2.0\n",
    "TRUE_b = -1.0\n",
    "plt.plot(epochs, list_w, 'r', epochs, list_b, 'b')\n",
    "plt.plot([TRUE_w] * len(epochs), 'r--', [TRUE_b] * len(epochs), 'b--')\n",
    "plt.legend(['w', 'b', 'True w', 'True b'])\n",
    "plt.show()"
   ]
  },
  {
   "cell_type": "code",
   "execution_count": null,
   "metadata": {},
   "outputs": [],
   "source": []
  }
 ],
 "metadata": {
  "kernelspec": {
   "display_name": "Python 3",
   "language": "python",
   "name": "python3"
  },
  "language_info": {
   "codemirror_mode": {
    "name": "ipython",
    "version": 3
   },
   "file_extension": ".py",
   "mimetype": "text/x-python",
   "name": "python",
   "nbconvert_exporter": "python",
   "pygments_lexer": "ipython3",
   "version": "3.8.6"
  }
 },
 "nbformat": 4,
 "nbformat_minor": 4
}
