{
 "cells": [
  {
   "cell_type": "code",
   "execution_count": 1,
   "metadata": {},
   "outputs": [],
   "source": [
    "#Simple bird class\n",
    "class Bird:\n",
    "    def __init__(self):\n",
    "        print(\"My bird class constructor ...\")\n",
    "    \n",
    "    def whattype(self):\n",
    "        print(\"I am a bird .......\")\n",
    "        \n",
    "    def swim(self):\n",
    "        print(\"Yes i can swim .......\")"
   ]
  },
  {
   "cell_type": "code",
   "execution_count": 2,
   "metadata": {},
   "outputs": [
    {
     "name": "stdout",
     "output_type": "stream",
     "text": [
      "My bird class constructor ...\n"
     ]
    }
   ],
   "source": [
    "mybird = Bird()"
   ]
  },
  {
   "cell_type": "code",
   "execution_count": null,
   "metadata": {},
   "outputs": [],
   "source": [
    "#Class to inherit attributes from the bird class\n",
    "class myPenguin(Bird):\n",
    "    def __init__(self):\n",
    "        #Call the super function\n",
    "        super().__init__()\n",
    "        print(\"Constructor is executing ......\")\n",
    "    \n",
    "    def whois(self):\n",
    "        print(\"I am a penguin.\")\n",
    "        \n",
    "    def canRun(self):\n",
    "        print(\"I can run faster .....\")"
   ]
  }
 ],
 "metadata": {
  "kernelspec": {
   "display_name": "Python 3",
   "language": "python",
   "name": "python3"
  },
  "language_info": {
   "codemirror_mode": {
    "name": "ipython",
    "version": 3
   },
   "file_extension": ".py",
   "mimetype": "text/x-python",
   "name": "python",
   "nbconvert_exporter": "python",
   "pygments_lexer": "ipython3",
   "version": "3.8.6"
  }
 },
 "nbformat": 4,
 "nbformat_minor": 4
}
