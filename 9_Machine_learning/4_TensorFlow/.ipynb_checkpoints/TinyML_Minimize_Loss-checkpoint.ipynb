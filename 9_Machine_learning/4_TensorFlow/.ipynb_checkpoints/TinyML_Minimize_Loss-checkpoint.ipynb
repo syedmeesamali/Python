{
 "cells": [
  {
   "cell_type": "code",
   "execution_count": 13,
   "metadata": {},
   "outputs": [],
   "source": [
    "from __future__ import absolute_import, division, print_function, unicode_literals\n",
    "\n",
    "import tensorflow as tf\n",
    "import numpy as np\n",
    "import matplotlib.pyplot as plt"
   ]
  },
  {
   "cell_type": "code",
   "execution_count": 14,
   "metadata": {},
   "outputs": [
    {
     "ename": "IndentationError",
     "evalue": "expected an indented block (<ipython-input-14-2c5ecc5d03b5>, line 12)",
     "output_type": "error",
     "traceback": [
      "\u001b[1;36m  File \u001b[1;32m\"<ipython-input-14-2c5ecc5d03b5>\"\u001b[1;36m, line \u001b[1;32m12\u001b[0m\n\u001b[1;33m    current_loss = loss(model(inputs), outputs)\u001b[0m\n\u001b[1;37m    ^\u001b[0m\n\u001b[1;31mIndentationError\u001b[0m\u001b[1;31m:\u001b[0m expected an indented block\n"
     ]
    }
   ],
   "source": [
    "# Define our initial guess\n",
    "INITIAL_W = 8\n",
    "INITIAL_B = 8\n",
    "\n",
    "# Define our loss function\n",
    "def loss(predicted_y, target_y):\n",
    "    return tf.reduce_mean(tf.square(predicted_y - target_y))\n",
    "\n",
    "# Define our training procedure\n",
    "def train(model, inputs, outputs, learning_rate):\n",
    "    with tf.GradientTape() as t:\n",
    "        current_loss = loss(model(inputs), outputs)\n",
    "        # Here is where you differentiate the model values with respect to the loss function\n",
    "        dw, db = t.gradient(current_loss, [model.w, model.b])\n",
    "        # And here is where you update the model values based on the learning rate chosen\n",
    "        model.w.assign_sub(learning_rate * dw)\n",
    "        model.b.assign_sub(learning_rate * db)\n",
    "        return current_loss"
   ]
  },
  {
   "cell_type": "code",
   "execution_count": null,
   "metadata": {},
   "outputs": [],
   "source": [
    "# Define our simple linear regression model\n",
    "class Model(object):\n",
    "    def __init__(self):\n",
    "        # Initialize the weights\n",
    "        self.w = tf.Variable(INITIAL_W)\n",
    "        self.b = tf.Variable(INITIAL_B)\n",
    "\n",
    "def __call__(self, x):\n",
    "    return self.w * x + self.b"
   ]
  },
  {
   "cell_type": "code",
   "execution_count": null,
   "metadata": {},
   "outputs": [],
   "source": [
    "# Define our input data and learning rate\n",
    "xs = [-1.0, 0.0, 1.0, 2.0, 3.0, 4.0]\n",
    "ys = [-3.0, -1.0, 1.0, 3.0, 5.0, 7.0]\n",
    "LEARNING_RATE=0.09\n",
    "\n",
    "# Instantiate our model\n",
    "model = Model()"
   ]
  },
  {
   "cell_type": "code",
   "execution_count": null,
   "metadata": {},
   "outputs": [],
   "source": [
    "# Collect the history of w-values and b-values to plot later\n",
    "list_w, list_b = [], []\n",
    "epochs = range(50)\n",
    "losses = []\n",
    "for epoch in epochs:\n",
    "    list_w.append(model.w.numpy())\n",
    "    list_b.append(model.b.numpy())\n",
    "    current_loss = train(model, xs, ys, learning_rate=LEARNING_RATE)\n",
    "    losses.append(current_loss)\n",
    "    print('Epoch %2d: w=%1.2f b=%1.2f, loss=%2.5f' %\n",
    "        (epoch, list_w[-1], list_b[-1], current_loss))"
   ]
  },
  {
   "cell_type": "code",
   "execution_count": null,
   "metadata": {},
   "outputs": [],
   "source": [
    "# Plot the w-values and b-values for each training Epoch against the true values\n",
    "TRUE_w = 2.0\n",
    "TRUE_b = -1.0\n",
    "plt.plot(epochs, list_w, 'r', epochs, list_b, 'b')\n",
    "plt.plot([TRUE_w] * len(epochs), 'r--', [TRUE_b] * len(epochs), 'b--')\n",
    "plt.legend(['w', 'b', 'True w', 'True b'])\n",
    "plt.show()"
   ]
  },
  {
   "cell_type": "code",
   "execution_count": null,
   "metadata": {},
   "outputs": [],
   "source": []
  }
 ],
 "metadata": {
  "kernelspec": {
   "display_name": "Python 3",
   "language": "python",
   "name": "python3"
  },
  "language_info": {
   "codemirror_mode": {
    "name": "ipython",
    "version": 3
   },
   "file_extension": ".py",
   "mimetype": "text/x-python",
   "name": "python",
   "nbconvert_exporter": "python",
   "pygments_lexer": "ipython3",
   "version": "3.8.6"
  }
 },
 "nbformat": 4,
 "nbformat_minor": 4
}
