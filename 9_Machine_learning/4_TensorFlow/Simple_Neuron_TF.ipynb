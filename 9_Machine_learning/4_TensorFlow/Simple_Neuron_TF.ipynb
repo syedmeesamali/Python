{
 "cells": [
  {
   "cell_type": "code",
   "execution_count": 1,
   "metadata": {},
   "outputs": [],
   "source": [
    "# First import the functions we will need\n",
    "from __future__ import absolute_import, division, print_function, unicode_literals\n",
    "try:\n",
    "  # %tensorflow_version only exists in Colab.\n",
    "  %tensorflow_version 2.x\n",
    "except Exception:\n",
    "  pass\n",
    "\n",
    "import tensorflow as tf\n",
    "import numpy as np\n",
    "import matplotlib.pyplot as plt"
   ]
  },
  {
   "cell_type": "code",
   "execution_count": 4,
   "metadata": {},
   "outputs": [],
   "source": [
    "# Define our initial guess\n",
    "INITIAL_W = 10.0\n",
    "INITIAL_B = 10.0\n",
    "\n",
    "# Define our loss function\n",
    "def loss(predicted_y, target_y):\n",
    "    return tf.reduce_mean(tf.square(predicted_y - target_y))\n",
    "\n",
    "# Define our training procedure\n",
    "def train(model, inputs, outputs, learning_rate):\n",
    "    with tf.GradientTape() as t:\n",
    "        current_loss = loss(model(inputs), outputs)\n",
    "        # Here is where you differentiate the model values with respect to the loss function\n",
    "        dw, db = t.gradient(current_loss, [model.w, model.b])\n",
    "        # And here is where you update the model values based on the learning rate chosen\n",
    "        model.w.assign_sub(learning_rate * dw)\n",
    "        model.b.assign_sub(learning_rate * db)\n",
    "        return current_loss\n",
    "\n",
    "# Define our simple linear regression model\n",
    "class Model(object):\n",
    "    def __init__(self):\n",
    "        # Initialize the weights\n",
    "        self.w = tf.Variable(INITIAL_W)\n",
    "        self.b = tf.Variable(INITIAL_B)\n",
    "\n",
    "    def __call__(self, x):\n",
    "        return self.w * x + self.b\n",
    "    "
   ]
  },
  {
   "cell_type": "code",
   "execution_count": 7,
   "metadata": {},
   "outputs": [
    {
     "name": "stdout",
     "output_type": "stream",
     "text": [
      "Epoch  0: w=10.00 b=10.00, loss=489.00000\n",
      "Epoch  1: w=3.70 b=6.58, loss=91.89840\n",
      "Epoch  2: w=1.42 b=4.91, loss=29.05743\n",
      "Epoch  3: w=0.67 b=3.95, loss=16.64417\n",
      "Epoch  4: w=0.50 b=3.30, loss=12.33743\n",
      "Epoch  5: w=0.53 b=2.80, loss=9.72698\n",
      "Epoch  6: w=0.64 b=2.38, loss=7.76220\n",
      "Epoch  7: w=0.77 b=2.01, loss=6.20836\n",
      "Epoch  8: w=0.89 b=1.69, loss=4.96767\n",
      "Epoch  9: w=1.01 b=1.41, loss=3.97523\n",
      "Epoch 10: w=1.11 b=1.15, loss=3.18111\n",
      "Epoch 11: w=1.20 b=0.93, loss=2.54563\n",
      "Epoch 12: w=1.29 b=0.72, loss=2.03710\n",
      "Epoch 13: w=1.36 b=0.54, loss=1.63016\n",
      "Epoch 14: w=1.43 b=0.38, loss=1.30451\n",
      "Epoch 15: w=1.49 b=0.23, loss=1.04392\n",
      "Epoch 16: w=1.54 b=0.10, loss=0.83538\n",
      "Epoch 17: w=1.59 b=-0.01, loss=0.66850\n",
      "Epoch 18: w=1.63 b=-0.12, loss=0.53496\n",
      "Epoch 19: w=1.67 b=-0.21, loss=0.42809\n",
      "Epoch 20: w=1.71 b=-0.29, loss=0.34257\n",
      "Epoch 21: w=1.74 b=-0.37, loss=0.27414\n",
      "Epoch 22: w=1.77 b=-0.43, loss=0.21938\n",
      "Epoch 23: w=1.79 b=-0.49, loss=0.17555\n",
      "Epoch 24: w=1.81 b=-0.55, loss=0.14048\n",
      "Epoch 25: w=1.83 b=-0.60, loss=0.11242\n",
      "Epoch 26: w=1.85 b=-0.64, loss=0.08996\n",
      "Epoch 27: w=1.87 b=-0.68, loss=0.07199\n",
      "Epoch 28: w=1.88 b=-0.71, loss=0.05761\n",
      "Epoch 29: w=1.89 b=-0.74, loss=0.04610\n",
      "Epoch 30: w=1.90 b=-0.77, loss=0.03689\n",
      "Epoch 31: w=1.91 b=-0.79, loss=0.02952\n",
      "Epoch 32: w=1.92 b=-0.81, loss=0.02362\n",
      "Epoch 33: w=1.93 b=-0.83, loss=0.01891\n",
      "Epoch 34: w=1.94 b=-0.85, loss=0.01513\n",
      "Epoch 35: w=1.94 b=-0.87, loss=0.01211\n",
      "Epoch 36: w=1.95 b=-0.88, loss=0.00969\n",
      "Epoch 37: w=1.96 b=-0.89, loss=0.00775\n",
      "Epoch 38: w=1.96 b=-0.90, loss=0.00620\n",
      "Epoch 39: w=1.96 b=-0.91, loss=0.00496\n",
      "Epoch 40: w=1.97 b=-0.92, loss=0.00397\n",
      "Epoch 41: w=1.97 b=-0.93, loss=0.00318\n",
      "Epoch 42: w=1.97 b=-0.94, loss=0.00254\n",
      "Epoch 43: w=1.98 b=-0.95, loss=0.00204\n",
      "Epoch 44: w=1.98 b=-0.95, loss=0.00163\n",
      "Epoch 45: w=1.98 b=-0.96, loss=0.00130\n",
      "Epoch 46: w=1.98 b=-0.96, loss=0.00104\n",
      "Epoch 47: w=1.99 b=-0.97, loss=0.00083\n",
      "Epoch 48: w=1.99 b=-0.97, loss=0.00067\n",
      "Epoch 49: w=1.99 b=-0.97, loss=0.00053\n"
     ]
    }
   ],
   "source": [
    "# Define our input data and learning rate\n",
    "xs = [-1.0, 0.0, 1.0, 2.0, 3.0]\n",
    "ys = [-3.0, -1.0, 1.0, 3.0, 5.0]\n",
    "LEARNING_RATE=0.09\n",
    "\n",
    "# Instantiate our model\n",
    "model = Model()\n",
    "\n",
    "# Collect the history of w-values and b-values to plot later\n",
    "list_w, list_b = [], []\n",
    "epochs = range(50)\n",
    "losses = []\n",
    "for epoch in epochs:\n",
    "    list_w.append(model.w.numpy())\n",
    "    list_b.append(model.b.numpy())\n",
    "    current_loss = train(model, xs, ys, learning_rate=LEARNING_RATE)\n",
    "    losses.append(current_loss)\n",
    "    print('Epoch %2d: w=%1.2f b=%1.2f, loss=%2.5f' %\n",
    "        (epoch, list_w[-1], list_b[-1], current_loss))"
   ]
  },
  {
   "cell_type": "code",
   "execution_count": 8,
   "metadata": {},
   "outputs": [
    {
     "data": {
      "image/png": "[encoded data removed]",
      "text/plain": [
       "<Figure size 432x288 with 1 Axes>"
      ]
     },
     "metadata": {
      "needs_background": "light"
     },
     "output_type": "display_data"
    }
   ],
   "source": [
    "# Plot the w-values and b-values for each training Epoch against the true values\n",
    "TRUE_w = 2.0\n",
    "TRUE_b = -1.0\n",
    "plt.plot(epochs, list_w, 'r', epochs, list_b, 'b')\n",
    "plt.plot([TRUE_w] * len(epochs), 'r--', [TRUE_b] * len(epochs), 'b--')\n",
    "plt.legend(['w', 'b', 'True w', 'True b'])\n",
    "plt.show()"
   ]
  },
  {
   "cell_type": "code",
   "execution_count": null,
   "metadata": {},
   "outputs": [],
   "source": []
  }
 ],
 "metadata": {
  "kernelspec": {
   "display_name": "Python 3",
   "language": "python",
   "name": "python3"
  },
  "language_info": {
   "codemirror_mode": {
    "name": "ipython",
    "version": 3
   },
   "file_extension": ".py",
   "mimetype": "text/x-python",
   "name": "python",
   "nbconvert_exporter": "python",
   "pygments_lexer": "ipython3",
   "version": "3.8.6"
  }
 },
 "nbformat": 4,
 "nbformat_minor": 4
}
