{
 "cells": [
  {
   "cell_type": "markdown",
   "metadata": {},
   "source": [
    "## Symbolic Maths"
   ]
  },
  {
   "cell_type": "code",
   "execution_count": 2,
   "metadata": {},
   "outputs": [],
   "source": [
    "from sympy import *"
   ]
  },
  {
   "cell_type": "code",
   "execution_count": 3,
   "metadata": {},
   "outputs": [],
   "source": [
    "aa = Matrix([1/sqrt(2), 0, 1/sqrt(2)])\n",
    "bb = Matrix([0, 1/sqrt(2), 1/sqrt(2)])\n",
    "r = [Symbol(r'r_{%d%d}' % (i, j)) for i in range(3) for j in range(3)]\n",
    "R = Matrix([r[0:3], \n",
    "           r[3:6],\n",
    "           r[6:]])"
   ]
  },
  {
   "cell_type": "code",
   "execution_count": 4,
   "metadata": {},
   "outputs": [
    {
     "data": {
      "text/latex": [
       "$\\displaystyle \\left[\\begin{matrix}\\frac{\\sqrt{2}}{2}\\\\0\\\\\\frac{\\sqrt{2}}{2}\\end{matrix}\\right]$"
      ],
      "text/plain": [
       "Matrix([\n",
       "[sqrt(2)/2],\n",
       "[        0],\n",
       "[sqrt(2)/2]])"
      ]
     },
     "metadata": {},
     "output_type": "display_data"
    }
   ],
   "source": [
    "display(aa)"
   ]
  },
  {
   "cell_type": "code",
   "execution_count": 5,
   "metadata": {},
   "outputs": [
    {
     "data": {
      "text/latex": [
       "$\\displaystyle \\left[\\begin{matrix}0\\\\\\frac{\\sqrt{2}}{2}\\\\\\frac{\\sqrt{2}}{2}\\end{matrix}\\right]$"
      ],
      "text/plain": [
       "Matrix([\n",
       "[        0],\n",
       "[sqrt(2)/2],\n",
       "[sqrt(2)/2]])"
      ]
     },
     "metadata": {},
     "output_type": "display_data"
    }
   ],
   "source": [
    "display(bb)"
   ]
  },
  {
   "cell_type": "code",
   "execution_count": 6,
   "metadata": {},
   "outputs": [
    {
     "data": {
      "text/latex": [
       "$\\displaystyle \\left[\\begin{matrix}r_{00} & r_{01} & r_{02}\\\\r_{10} & r_{11} & r_{12}\\\\r_{20} & r_{21} & r_{22}\\end{matrix}\\right]$"
      ],
      "text/plain": [
       "Matrix([\n",
       "[r_{00}, r_{01}, r_{02}],\n",
       "[r_{10}, r_{11}, r_{12}],\n",
       "[r_{20}, r_{21}, r_{22}]])"
      ]
     },
     "metadata": {},
     "output_type": "display_data"
    }
   ],
   "source": [
    "display(R)"
   ]
  },
  {
   "cell_type": "code",
   "execution_count": 7,
   "metadata": {},
   "outputs": [
    {
     "data": {
      "text/latex": [
       "$\\displaystyle \\left[\\begin{matrix}\\frac{\\sqrt{2} r_{00}}{2} + \\frac{\\sqrt{2} r_{02}}{2}\\\\\\frac{\\sqrt{2} r_{10}}{2} + \\frac{\\sqrt{2} r_{12}}{2}\\\\\\frac{\\sqrt{2} r_{20}}{2} + \\frac{\\sqrt{2} r_{22}}{2}\\end{matrix}\\right] = \\left[\\begin{matrix}0\\\\\\frac{\\sqrt{2}}{2}\\\\\\frac{\\sqrt{2}}{2}\\end{matrix}\\right]$"
      ],
      "text/plain": [
       "Eq(Matrix([\n",
       "[sqrt(2)*r_{00}/2 + sqrt(2)*r_{02}/2],\n",
       "[sqrt(2)*r_{10}/2 + sqrt(2)*r_{12}/2],\n",
       "[sqrt(2)*r_{20}/2 + sqrt(2)*r_{22}/2]]), Matrix([\n",
       "[        0],\n",
       "[sqrt(2)/2],\n",
       "[sqrt(2)/2]]))"
      ]
     },
     "execution_count": 7,
     "metadata": {},
     "output_type": "execute_result"
    }
   ],
   "source": [
    "meq = Eq(R * aa, bb)\n",
    "meq"
   ]
  },
  {
   "cell_type": "code",
   "execution_count": 8,
   "metadata": {},
   "outputs": [],
   "source": [
    "eqns = [Eq(meq.lhs[k], meq.rhs[k]) for k in range(3)]"
   ]
  },
  {
   "cell_type": "code",
   "execution_count": 9,
   "metadata": {},
   "outputs": [
    {
     "data": {
      "text/latex": [
       "$\\displaystyle \\frac{\\sqrt{2} r_{00}}{2} + \\frac{\\sqrt{2} r_{02}}{2} = 0$"
      ],
      "text/plain": [
       "Eq(sqrt(2)*r_{00}/2 + sqrt(2)*r_{02}/2, 0)"
      ]
     },
     "metadata": {},
     "output_type": "display_data"
    },
    {
     "data": {
      "text/latex": [
       "$\\displaystyle \\frac{\\sqrt{2} r_{10}}{2} + \\frac{\\sqrt{2} r_{12}}{2} = \\frac{\\sqrt{2}}{2}$"
      ],
      "text/plain": [
       "Eq(sqrt(2)*r_{10}/2 + sqrt(2)*r_{12}/2, sqrt(2)/2)"
      ]
     },
     "metadata": {},
     "output_type": "display_data"
    },
    {
     "data": {
      "text/latex": [
       "$\\displaystyle \\frac{\\sqrt{2} r_{20}}{2} + \\frac{\\sqrt{2} r_{22}}{2} = \\frac{\\sqrt{2}}{2}$"
      ],
      "text/plain": [
       "Eq(sqrt(2)*r_{20}/2 + sqrt(2)*r_{22}/2, sqrt(2)/2)"
      ]
     },
     "metadata": {},
     "output_type": "display_data"
    }
   ],
   "source": [
    "for eq in eqns:\n",
    "    display(eq)"
   ]
  },
  {
   "cell_type": "code",
   "execution_count": null,
   "metadata": {},
   "outputs": [],
   "source": []
  }
 ],
 "metadata": {
  "kernelspec": {
   "display_name": "Python 3.8.6 64-bit",
   "language": "python",
   "name": "python3"
  },
  "language_info": {
   "codemirror_mode": {
    "name": "ipython",
    "version": 3
   },
   "file_extension": ".py",
   "mimetype": "text/x-python",
   "name": "python",
   "nbconvert_exporter": "python",
   "pygments_lexer": "ipython3",
   "version": "3.8.6"
  },
  "orig_nbformat": 4,
  "vscode": {
   "interpreter": {
    "hash": "570feb405e2e27c949193ac68f46852414290d515b0ba6e5d90d076ed2284471"
   }
  }
 },
 "nbformat": 4,
 "nbformat_minor": 2
}
