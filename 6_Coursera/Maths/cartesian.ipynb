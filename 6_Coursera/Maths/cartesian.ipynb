{
 "cells": [
  {
   "attachments": {},
   "cell_type": "markdown",
   "metadata": {},
   "source": [
    "### Rough book maths"
   ]
  },
  {
   "cell_type": "code",
   "execution_count": 1,
   "metadata": {},
   "outputs": [
    {
     "name": "stdout",
     "output_type": "stream",
     "text": [
      "Sqrt is : 12.206555615733702\n"
     ]
    }
   ],
   "source": [
    "import math\n",
    "val = math.sqrt(1**2 + 2**2 + 12**2)\n",
    "print(f\"Sqrt is : {val}\")"
   ]
  },
  {
   "cell_type": "code",
   "execution_count": 2,
   "metadata": {},
   "outputs": [
    {
     "name": "stdout",
     "output_type": "stream",
     "text": [
      "[-0.08192319 -0.16384638 -0.9830783 ]\n"
     ]
    }
   ],
   "source": [
    "import numpy as np\n",
    "vect = np.array([-1, -2, -12])\n",
    "ans = vect / val\n",
    "print(ans)"
   ]
  },
  {
   "cell_type": "code",
   "execution_count": 8,
   "metadata": {},
   "outputs": [],
   "source": [
    "prev_F = [46.2, 61.6, -184.6]"
   ]
  },
  {
   "cell_type": "code",
   "execution_count": 13,
   "metadata": {},
   "outputs": [
    {
     "name": "stdout",
     "output_type": "stream",
     "text": [
      "167.5984662997853\n"
     ]
    }
   ],
   "source": [
    "Final_F = prev_F * ans\n",
    "print(np.sum(Final_F))\n",
    "Fao = np.sum(Final_F)"
   ]
  },
  {
   "cell_type": "code",
   "execution_count": 14,
   "metadata": {},
   "outputs": [
    {
     "name": "stdout",
     "output_type": "stream",
     "text": [
      "[ -13.73020134  -27.46040268 -164.76241611]\n"
     ]
    }
   ],
   "source": [
    "F_Comp = Fao * ans\n",
    "print(F_Comp)"
   ]
  },
  {
   "cell_type": "code",
   "execution_count": null,
   "metadata": {},
   "outputs": [],
   "source": []
  }
 ],
 "metadata": {
  "kernelspec": {
   "display_name": "Python 3",
   "language": "python",
   "name": "python3"
  },
  "language_info": {
   "codemirror_mode": {
    "name": "ipython",
    "version": 3
   },
   "file_extension": ".py",
   "mimetype": "text/x-python",
   "name": "python",
   "nbconvert_exporter": "python",
   "pygments_lexer": "ipython3",
   "version": "3.10.10"
  },
  "orig_nbformat": 4
 },
 "nbformat": 4,
 "nbformat_minor": 2
}
