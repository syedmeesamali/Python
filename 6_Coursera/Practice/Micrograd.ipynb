{
 "cells": [
  {
   "cell_type": "code",
   "execution_count": 1,
   "metadata": {},
   "outputs": [],
   "source": [
    "import math\n",
    "import numpy as np\n",
    "import matplotlib.pyplot as plt"
   ]
  },
  {
   "cell_type": "code",
   "execution_count": 2,
   "metadata": {},
   "outputs": [
    {
     "data": {
      "text/plain": [
       "20.0"
      ]
     },
     "execution_count": 2,
     "metadata": {},
     "output_type": "execute_result"
    }
   ],
   "source": [
    "def f(x):\n",
    "    return 3*x**2 - 4*x + 5\n",
    "\n",
    "f(3.0)"
   ]
  },
  {
   "cell_type": "code",
   "execution_count": 3,
   "metadata": {},
   "outputs": [
    {
     "data": {
      "text/plain": [
       "[<matplotlib.lines.Line2D at 0x1fdc7d34e20>]"
      ]
     },
     "execution_count": 3,
     "metadata": {},
     "output_type": "execute_result"
    },
    {
     "data": {
      "image/png": "[encoded data removed]",
      "text/plain": [
       "<Figure size 432x288 with 1 Axes>"
      ]
     },
     "metadata": {
      "needs_background": "light"
     },
     "output_type": "display_data"
    }
   ],
   "source": [
    "xs = np.arange(-5, 5, 0.25)\n",
    "ys = f(xs)\n",
    "plt.plot(xs, ys)"
   ]
  },
  {
   "cell_type": "code",
   "execution_count": 4,
   "metadata": {},
   "outputs": [
    {
     "name": "stdout",
     "output_type": "stream",
     "text": [
      "3.6666666666696663\n",
      "2.999378523327323e-06\n"
     ]
    }
   ],
   "source": [
    "h = 0.000001           #small value to nudge for a derivative function\n",
    "x = 2/3\n",
    "print(f(x+h))\n",
    "#slope = rise / run\n",
    "print((f(x+h) - f(x)) / h)"
   ]
  },
  {
   "cell_type": "code",
   "execution_count": 6,
   "metadata": {},
   "outputs": [
    {
     "name": "stdout",
     "output_type": "stream",
     "text": [
      "d1 val: 4.0\n",
      "d2 val: 3.999699999999999\n",
      "Slope val is -3.000000000010772\n"
     ]
    }
   ],
   "source": [
    "a = 2.0\n",
    "b = -3.0\n",
    "c = 10.0\n",
    "d1 = a * b + c\n",
    "h = 0.0001\n",
    "d2 = (a + h) * b + c\n",
    "print(f\"d1 val: {d1}\")\n",
    "print(f\"d2 val: {d2}\")\n",
    "\n",
    "slope = (d2 - d1) / h\n",
    "print(f\"Slope val is {slope}\")"
   ]
  },
  {
   "attachments": {},
   "cell_type": "markdown",
   "metadata": {},
   "source": [
    "## Function for Value"
   ]
  },
  {
   "cell_type": "code",
   "execution_count": 7,
   "metadata": {},
   "outputs": [
    {
     "data": {
      "text/plain": [
       "Value(data=-8.0)"
      ]
     },
     "execution_count": 7,
     "metadata": {},
     "output_type": "execute_result"
    }
   ],
   "source": [
    "class Value:\n",
    "\n",
    "    def __init__(self, data, _children=(), _op = '', label = ''):\n",
    "        self.data = data\n",
    "        self._prev = set(_children)             #Tuple children saved as empty set\n",
    "        self._op = _op\n",
    "        self.label = label\n",
    "        self.grad = 0           #Place to store gradient value\n",
    "    \n",
    "    #To output the proper values from function\n",
    "    def __repr__(self):\n",
    "        return(f\"Value(data={self.data})\")\n",
    "\n",
    "    # Underscores ensures the actual return function is used as addition / multiplication etc\n",
    "    def __add__(self, other):\n",
    "        out = Value(self.data + other.data, (self, other), '+')\n",
    "        return out\n",
    "\n",
    "    def __mul__(self, other):\n",
    "        out = Value(self.data * other.data, (self, other), '*')\n",
    "        return out\n",
    "\n",
    "a = Value(2.0, label = 'a')\n",
    "b = Value(-3.0, label = 'b')\n",
    "c = Value(10, label = 'c')\n",
    "e = a * b\n",
    "e.label = 'e'\n",
    "d = e + c\n",
    "d.label = 'd'\n",
    "f = Value(-2.0, label='f')\n",
    "L = d * f\n",
    "L"
   ]
  },
  {
   "attachments": {},
   "cell_type": "markdown",
   "metadata": {},
   "source": [
    "## How to visualize values - Graph code"
   ]
  },
  {
   "cell_type": "code",
   "execution_count": 8,
   "metadata": {},
   "outputs": [],
   "source": [
    "from graphviz import Digraph\n",
    "\n",
    "def trace(root):\n",
    "    #Build set of nodes and edges of graph\n",
    "    nodes, edges = set(), set()\n",
    "    def build(v):\n",
    "        if v not in nodes:\n",
    "            nodes.add(v)\n",
    "            for child in v._prev:\n",
    "                edges.add((child, v))\n",
    "                build(child)\n",
    "    build(root)\n",
    "    return nodes, edges\n",
    "\n",
    "def draw_dot(root):\n",
    "    dot = Digraph(format='svg', graph_attr={'rankdir': 'LR'}) #LR = left to right\n",
    "    nodes, edges = trace(root)\n",
    "    for n in nodes:\n",
    "        uid = str(id(n))\n",
    "\n",
    "        #for any value in graph create a rectangular record for it\n",
    "        dot.node(name = uid, label = \"{ %s | data %.4f | grad %.4f}\" % (n.label, n.data, n.grad ), shape = 'record')\n",
    "        if n._op:\n",
    "            #Op nodes\n",
    "            dot.node(name = uid + n._op, label=n._op)\n",
    "            dot.edge(uid + n._op, uid)\n",
    "    for n1, n2 in edges:\n",
    "        dot.edge(str(id(n1)), str(id(n2)) + n2._op)\n",
    "    return dot"
   ]
  },
  {
   "cell_type": "code",
   "execution_count": 9,
   "metadata": {},
   "outputs": [
    {
     "data": {
      "image/svg+xml": "<?xml version=\"1.0\" encoding=\"UTF-8\" standalone=\"no\"?>\n<!DOCTYPE svg PUBLIC \"-//W3C//DTD SVG 1.1//EN\"\n \"http://www.w3.org/Graphics/SVG/1.1/DTD/svg11.dtd\">\n<!-- Generated by graphviz version 7.1.0 (20230121.1956)\n -->\n<!-- Pages: 1 -->\n<svg width=\"1152pt\" height=\"128pt\"\n viewBox=\"0.00 0.00 1152.00 128.00\" xmlns=\"http://www.w3.org/2000/svg\" xmlns:xlink=\"http://www.w3.org/1999/xlink\">\n<g id=\"graph0\" class=\"graph\" transform=\"scale(1 1) rotate(0) translate(4 124)\">\n<polygon fill=\"white\" stroke=\"none\" points=\"-4,4 -4,-124 1148,-124 1148,4 -4,4\"/>\n<!-- 2189525023232 -->\n<g id=\"node1\" class=\"node\">\n<title>2189525023232</title>\n<polygon fill=\"none\" stroke=\"black\" points=\"640,-27.5 640,-63.5 828,-63.5 828,-27.5 640,-27.5\"/>\n<text text-anchor=\"middle\" x=\"652\" y=\"-41.8\" font-family=\"Times New Roman,serif\" font-size=\"14.00\">d</text>\n<polyline fill=\"none\" stroke=\"black\" points=\"664,-27.5 664,-63.5\"/>\n<text text-anchor=\"middle\" x=\"704.5\" y=\"-41.8\" font-family=\"Times New Roman,serif\" font-size=\"14.00\">data 4.0000</text>\n<polyline fill=\"none\" stroke=\"black\" points=\"745,-27.5 745,-63.5\"/>\n<text text-anchor=\"middle\" x=\"786.5\" y=\"-41.8\" font-family=\"Times New Roman,serif\" font-size=\"14.00\">grad 0.0000</text>\n</g>\n<!-- 2189525023376* -->\n<g id=\"node6\" class=\"node\">\n<title>2189525023376*</title>\n<ellipse fill=\"none\" stroke=\"black\" cx=\"892\" cy=\"-72.5\" rx=\"27\" ry=\"18\"/>\n<text text-anchor=\"middle\" x=\"892\" y=\"-68.8\" font-family=\"Times New Roman,serif\" font-size=\"14.00\">*</text>\n</g>\n<!-- 2189525023232&#45;&gt;2189525023376* -->\n<g id=\"edge6\" class=\"edge\">\n<title>2189525023232&#45;&gt;2189525023376*</title>\n<path fill=\"none\" stroke=\"black\" d=\"M828,-61.6C837.2,-63.19 846.12,-64.73 854.21,-66.13\"/>\n<polygon fill=\"black\" stroke=\"black\" points=\"853.46,-69.55 863.91,-67.81 854.65,-62.66 853.46,-69.55\"/>\n</g>\n<!-- 2189525023232+ -->\n<g id=\"node2\" class=\"node\">\n<title>2189525023232+</title>\n<ellipse fill=\"none\" stroke=\"black\" cx=\"576\" cy=\"-45.5\" rx=\"27\" ry=\"18\"/>\n<text text-anchor=\"middle\" x=\"576\" y=\"-41.8\" font-family=\"Times New Roman,serif\" font-size=\"14.00\">+</text>\n</g>\n<!-- 2189525023232+&#45;&gt;2189525023232 -->\n<g id=\"edge1\" class=\"edge\">\n<title>2189525023232+&#45;&gt;2189525023232</title>\n<path fill=\"none\" stroke=\"black\" d=\"M603.46,-45.5C610.94,-45.5 619.56,-45.5 628.73,-45.5\"/>\n<polygon fill=\"black\" stroke=\"black\" points=\"628.64,-49 638.64,-45.5 628.64,-42 628.64,-49\"/>\n</g>\n<!-- 2189491133968 -->\n<g id=\"node3\" class=\"node\">\n<title>2189491133968</title>\n<polygon fill=\"none\" stroke=\"black\" points=\"320,-55.5 320,-91.5 512,-91.5 512,-55.5 320,-55.5\"/>\n<text text-anchor=\"middle\" x=\"331.5\" y=\"-69.8\" font-family=\"Times New Roman,serif\" font-size=\"14.00\">e</text>\n<polyline fill=\"none\" stroke=\"black\" points=\"343,-55.5 343,-91.5\"/>\n<text text-anchor=\"middle\" x=\"386\" y=\"-69.8\" font-family=\"Times New Roman,serif\" font-size=\"14.00\">data &#45;6.0000</text>\n<polyline fill=\"none\" stroke=\"black\" points=\"429,-55.5 429,-91.5\"/>\n<text text-anchor=\"middle\" x=\"470.5\" y=\"-69.8\" font-family=\"Times New Roman,serif\" font-size=\"14.00\">grad 0.0000</text>\n</g>\n<!-- 2189491133968&#45;&gt;2189525023232+ -->\n<g id=\"edge9\" class=\"edge\">\n<title>2189491133968&#45;&gt;2189525023232+</title>\n<path fill=\"none\" stroke=\"black\" d=\"M511.65,-56.73C521.01,-55.07 530.06,-53.46 538.26,-52.01\"/>\n<polygon fill=\"black\" stroke=\"black\" points=\"538.86,-55.46 548.1,-50.27 537.64,-48.57 538.86,-55.46\"/>\n</g>\n<!-- 2189491133968* -->\n<g id=\"node4\" class=\"node\">\n<title>2189491133968*</title>\n<ellipse fill=\"none\" stroke=\"black\" cx=\"256\" cy=\"-73.5\" rx=\"27\" ry=\"18\"/>\n<text text-anchor=\"middle\" x=\"256\" y=\"-69.8\" font-family=\"Times New Roman,serif\" font-size=\"14.00\">*</text>\n</g>\n<!-- 2189491133968*&#45;&gt;2189491133968 -->\n<g id=\"edge2\" class=\"edge\">\n<title>2189491133968*&#45;&gt;2189491133968</title>\n<path fill=\"none\" stroke=\"black\" d=\"M283.45,-73.5C290.94,-73.5 299.59,-73.5 308.8,-73.5\"/>\n<polygon fill=\"black\" stroke=\"black\" points=\"308.76,-77 318.76,-73.5 308.76,-70 308.76,-77\"/>\n</g>\n<!-- 2189525023376 -->\n<g id=\"node5\" class=\"node\">\n<title>2189525023376</title>\n<polygon fill=\"none\" stroke=\"black\" points=\"955,-54.5 955,-90.5 1144,-90.5 1144,-54.5 955,-54.5\"/>\n<text text-anchor=\"middle\" x=\"965\" y=\"-68.8\" font-family=\"Times New Roman,serif\" font-size=\"14.00\"> </text>\n<polyline fill=\"none\" stroke=\"black\" points=\"975,-54.5 975,-90.5\"/>\n<text text-anchor=\"middle\" x=\"1018\" y=\"-68.8\" font-family=\"Times New Roman,serif\" font-size=\"14.00\">data &#45;8.0000</text>\n<polyline fill=\"none\" stroke=\"black\" points=\"1061,-54.5 1061,-90.5\"/>\n<text text-anchor=\"middle\" x=\"1102.5\" y=\"-68.8\" font-family=\"Times New Roman,serif\" font-size=\"14.00\">grad 0.0000</text>\n</g>\n<!-- 2189525023376*&#45;&gt;2189525023376 -->\n<g id=\"edge3\" class=\"edge\">\n<title>2189525023376*&#45;&gt;2189525023376</title>\n<path fill=\"none\" stroke=\"black\" d=\"M919.38,-72.5C926.63,-72.5 934.96,-72.5 943.82,-72.5\"/>\n<polygon fill=\"black\" stroke=\"black\" points=\"943.77,-76 953.77,-72.5 943.77,-69 943.77,-76\"/>\n</g>\n<!-- 2189490871536 -->\n<g id=\"node7\" class=\"node\">\n<title>2189490871536</title>\n<polygon fill=\"none\" stroke=\"black\" points=\"319,-0.5 319,-36.5 513,-36.5 513,-0.5 319,-0.5\"/>\n<text text-anchor=\"middle\" x=\"330.5\" y=\"-14.8\" font-family=\"Times New Roman,serif\" font-size=\"14.00\">c</text>\n<polyline fill=\"none\" stroke=\"black\" points=\"342,-0.5 342,-36.5\"/>\n<text text-anchor=\"middle\" x=\"386\" y=\"-14.8\" font-family=\"Times New Roman,serif\" font-size=\"14.00\">data 10.0000</text>\n<polyline fill=\"none\" stroke=\"black\" points=\"430,-0.5 430,-36.5\"/>\n<text text-anchor=\"middle\" x=\"471.5\" y=\"-14.8\" font-family=\"Times New Roman,serif\" font-size=\"14.00\">grad 0.0000</text>\n</g>\n<!-- 2189490871536&#45;&gt;2189525023232+ -->\n<g id=\"edge8\" class=\"edge\">\n<title>2189490871536&#45;&gt;2189525023232+</title>\n<path fill=\"none\" stroke=\"black\" d=\"M512.55,-34.83C521.53,-36.36 530.21,-37.85 538.1,-39.19\"/>\n<polygon fill=\"black\" stroke=\"black\" points=\"537.46,-42.63 547.9,-40.87 538.64,-35.73 537.46,-42.63\"/>\n</g>\n<!-- 2189490874224 -->\n<g id=\"node8\" class=\"node\">\n<title>2189490874224</title>\n<polygon fill=\"none\" stroke=\"black\" points=\"0,-83.5 0,-119.5 193,-119.5 193,-83.5 0,-83.5\"/>\n<text text-anchor=\"middle\" x=\"12\" y=\"-97.8\" font-family=\"Times New Roman,serif\" font-size=\"14.00\">b</text>\n<polyline fill=\"none\" stroke=\"black\" points=\"24,-83.5 24,-119.5\"/>\n<text text-anchor=\"middle\" x=\"67\" y=\"-97.8\" font-family=\"Times New Roman,serif\" font-size=\"14.00\">data &#45;3.0000</text>\n<polyline fill=\"none\" stroke=\"black\" points=\"110,-83.5 110,-119.5\"/>\n<text text-anchor=\"middle\" x=\"151.5\" y=\"-97.8\" font-family=\"Times New Roman,serif\" font-size=\"14.00\">grad 0.0000</text>\n</g>\n<!-- 2189490874224&#45;&gt;2189491133968* -->\n<g id=\"edge4\" class=\"edge\">\n<title>2189490874224&#45;&gt;2189491133968*</title>\n<path fill=\"none\" stroke=\"black\" d=\"M192.75,-84.57C201.7,-82.98 210.35,-81.44 218.21,-80.04\"/>\n<polygon fill=\"black\" stroke=\"black\" points=\"218.75,-83.5 227.99,-78.3 217.53,-76.61 218.75,-83.5\"/>\n</g>\n<!-- 2189085680512 -->\n<g id=\"node9\" class=\"node\">\n<title>2189085680512</title>\n<polygon fill=\"none\" stroke=\"black\" points=\"3,-28.5 3,-64.5 190,-64.5 190,-28.5 3,-28.5\"/>\n<text text-anchor=\"middle\" x=\"14.5\" y=\"-42.8\" font-family=\"Times New Roman,serif\" font-size=\"14.00\">a</text>\n<polyline fill=\"none\" stroke=\"black\" points=\"26,-28.5 26,-64.5\"/>\n<text text-anchor=\"middle\" x=\"66.5\" y=\"-42.8\" font-family=\"Times New Roman,serif\" font-size=\"14.00\">data 2.0000</text>\n<polyline fill=\"none\" stroke=\"black\" points=\"107,-28.5 107,-64.5\"/>\n<text text-anchor=\"middle\" x=\"148.5\" y=\"-42.8\" font-family=\"Times New Roman,serif\" font-size=\"14.00\">grad 0.0000</text>\n</g>\n<!-- 2189085680512&#45;&gt;2189491133968* -->\n<g id=\"edge7\" class=\"edge\">\n<title>2189085680512&#45;&gt;2189491133968*</title>\n<path fill=\"none\" stroke=\"black\" d=\"M189.57,-62.28C199.66,-64.01 209.45,-65.69 218.25,-67.2\"/>\n<polygon fill=\"black\" stroke=\"black\" points=\"217.63,-70.65 228.08,-68.89 218.82,-63.75 217.63,-70.65\"/>\n</g>\n<!-- 2189525023136 -->\n<g id=\"node10\" class=\"node\">\n<title>2189525023136</title>\n<polygon fill=\"none\" stroke=\"black\" points=\"639,-82.5 639,-118.5 829,-118.5 829,-82.5 639,-82.5\"/>\n<text text-anchor=\"middle\" x=\"649.5\" y=\"-96.8\" font-family=\"Times New Roman,serif\" font-size=\"14.00\">f</text>\n<polyline fill=\"none\" stroke=\"black\" points=\"660,-82.5 660,-118.5\"/>\n<text text-anchor=\"middle\" x=\"703\" y=\"-96.8\" font-family=\"Times New Roman,serif\" font-size=\"14.00\">data &#45;2.0000</text>\n<polyline fill=\"none\" stroke=\"black\" points=\"746,-82.5 746,-118.5\"/>\n<text text-anchor=\"middle\" x=\"787.5\" y=\"-96.8\" font-family=\"Times New Roman,serif\" font-size=\"14.00\">grad 0.0000</text>\n</g>\n<!-- 2189525023136&#45;&gt;2189525023376* -->\n<g id=\"edge5\" class=\"edge\">\n<title>2189525023136&#45;&gt;2189525023376*</title>\n<path fill=\"none\" stroke=\"black\" d=\"M828.9,-83.65C837.81,-82.05 846.43,-80.5 854.28,-79.09\"/>\n<polygon fill=\"black\" stroke=\"black\" points=\"854.8,-82.55 864.02,-77.34 853.56,-75.66 854.8,-82.55\"/>\n</g>\n</g>\n</svg>\n",
      "text/plain": [
       "<graphviz.graphs.Digraph at 0x1fdc9dc7370>"
      ]
     },
     "execution_count": 9,
     "metadata": {},
     "output_type": "execute_result"
    }
   ],
   "source": [
    "draw_dot(L)"
   ]
  },
  {
   "cell_type": "code",
   "execution_count": 10,
   "metadata": {},
   "outputs": [],
   "source": [
    "L.grad = 1      #It's logical as dL / L = 1"
   ]
  },
  {
   "cell_type": "code",
   "execution_count": 11,
   "metadata": {},
   "outputs": [
    {
     "name": "stdout",
     "output_type": "stream",
     "text": [
      "6.000000000000227\n"
     ]
    }
   ],
   "source": [
    "#Staging area to review the derivative or gradient function\n",
    "def lol():\n",
    "    h = 0.001\n",
    "\n",
    "    a = Value(2.0, label = 'a')\n",
    "    b = Value(-3.0, label = 'b')\n",
    "    c = Value(10, label = 'c')\n",
    "    e = a * b\n",
    "    e.label = 'e'\n",
    "    d = e + c\n",
    "    d.label = 'd'\n",
    "    f = Value(-2.0, label='f')\n",
    "    L = d * f\n",
    "    L1 = L.data\n",
    "\n",
    "    a = Value(2.0 + h, label = 'a')         #Add h to a\n",
    "    b = Value(-3.0, label = 'b')\n",
    "    c = Value(10, label = 'c')\n",
    "    e = a * b\n",
    "    e.label = 'e'\n",
    "    d = e + c\n",
    "    d.label = 'd'\n",
    "    f = Value(-2.0, label='f')\n",
    "    L = d * f\n",
    "    L2 = L.data\n",
    "\n",
    "    print((L2 - L1) / h)            #Rise / run \n",
    "\n",
    "lol()"
   ]
  },
  {
   "attachments": {},
   "cell_type": "markdown",
   "metadata": {},
   "source": [
    "## Some notes\n",
    "\n",
    "derivatives\n",
    "\n",
    "(d / dc) (d) ....... === >>> 1.0\n",
    "\n",
    "(dd / de)    .................. >> 1.0\n",
    "\n",
    "d = c + e\n",
    "\n",
    "(f(x+h) - f(x)) / h\n",
    "\n",
    "=> ((c+h + e) - (c + e)) / h\n",
    "(c + h "
   ]
  },
  {
   "cell_type": "markdown",
   "metadata": {},
   "source": []
  }
 ],
 "metadata": {
  "kernelspec": {
   "display_name": "Python 3",
   "language": "python",
   "name": "python3"
  },
  "language_info": {
   "codemirror_mode": {
    "name": "ipython",
    "version": 3
   },
   "file_extension": ".py",
   "mimetype": "text/x-python",
   "name": "python",
   "nbconvert_exporter": "python",
   "pygments_lexer": "ipython3",
   "version": "3.10.4"
  },
  "orig_nbformat": 4
 },
 "nbformat": 4,
 "nbformat_minor": 2
}
