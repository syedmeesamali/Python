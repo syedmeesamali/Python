{
 "cells": [
  {
   "cell_type": "code",
   "execution_count": 1,
   "metadata": {},
   "outputs": [],
   "source": [
    "import math\n",
    "import numpy as np\n",
    "import matplotlib.pyplot as plt"
   ]
  },
  {
   "cell_type": "code",
   "execution_count": 2,
   "metadata": {},
   "outputs": [
    {
     "data": {
      "text/plain": [
       "20.0"
      ]
     },
     "execution_count": 2,
     "metadata": {},
     "output_type": "execute_result"
    }
   ],
   "source": [
    "def f(x):\n",
    "    return 3*x**2 - 4*x + 5\n",
    "\n",
    "f(3.0)"
   ]
  },
  {
   "cell_type": "code",
   "execution_count": 3,
   "metadata": {},
   "outputs": [
    {
     "data": {
      "text/plain": [
       "[<matplotlib.lines.Line2D at 0x1dab07e0e20>]"
      ]
     },
     "execution_count": 3,
     "metadata": {},
     "output_type": "execute_result"
    },
    {
     "data": {
      "image/png": "[encoded data removed]",
      "text/plain": [
       "<Figure size 432x288 with 1 Axes>"
      ]
     },
     "metadata": {
      "needs_background": "light"
     },
     "output_type": "display_data"
    }
   ],
   "source": [
    "xs = np.arange(-5, 5, 0.25)\n",
    "ys = f(xs)\n",
    "plt.plot(xs, ys)"
   ]
  },
  {
   "cell_type": "code",
   "execution_count": 4,
   "metadata": {},
   "outputs": [
    {
     "name": "stdout",
     "output_type": "stream",
     "text": [
      "3.6666666666696663\n",
      "2.999378523327323e-06\n"
     ]
    }
   ],
   "source": [
    "h = 0.000001           #small value to nudge for a derivative function\n",
    "x = 2/3\n",
    "print(f(x+h))\n",
    "#slope = rise / run\n",
    "print((f(x+h) - f(x)) / h)"
   ]
  },
  {
   "cell_type": "code",
   "execution_count": 5,
   "metadata": {},
   "outputs": [
    {
     "name": "stdout",
     "output_type": "stream",
     "text": [
      "d1 val: 4.0\n",
      "d2 val: 3.999699999999999\n",
      "Slope val is -3.000000000010772\n"
     ]
    }
   ],
   "source": [
    "a = 2.0\n",
    "b = -3.0\n",
    "c = 10.0\n",
    "d1 = a * b + c\n",
    "h = 0.0001\n",
    "d2 = (a + h) * b + c\n",
    "print(f\"d1 val: {d1}\")\n",
    "print(f\"d2 val: {d2}\")\n",
    "\n",
    "slope = (d2 - d1) / h\n",
    "print(f\"Slope val is {slope}\")"
   ]
  },
  {
   "attachments": {},
   "cell_type": "markdown",
   "metadata": {},
   "source": [
    "## Function for Value"
   ]
  },
  {
   "cell_type": "code",
   "execution_count": 6,
   "metadata": {},
   "outputs": [
    {
     "data": {
      "text/plain": [
       "Value(data=-8.0)"
      ]
     },
     "execution_count": 6,
     "metadata": {},
     "output_type": "execute_result"
    }
   ],
   "source": [
    "class Value:\n",
    "\n",
    "    def __init__(self, data, _children=(), _op = '', label = ''):\n",
    "        self.data = data\n",
    "        self._prev = set(_children)             #Tuple children saved as empty set\n",
    "        self._op = _op\n",
    "        self.label = label\n",
    "        self.grad = 0           #Place to store gradient value\n",
    "    \n",
    "    #To output the proper values from function\n",
    "    def __repr__(self):\n",
    "        return(f\"Value(data={self.data})\")\n",
    "\n",
    "    # Underscores ensures the actual return function is used as addition / multiplication etc\n",
    "    def __add__(self, other):\n",
    "        out = Value(self.data + other.data, (self, other), '+')\n",
    "        return out\n",
    "\n",
    "    def __mul__(self, other):\n",
    "        out = Value(self.data * other.data, (self, other), '*')\n",
    "        return out\n",
    "\n",
    "a = Value(2.0, label = 'a')\n",
    "b = Value(-3.0, label = 'b')\n",
    "c = Value(10, label = 'c')\n",
    "e = a * b\n",
    "e.label = 'e'\n",
    "d = e + c\n",
    "d.label = 'd'\n",
    "f = Value(-2.0, label='f')\n",
    "L = d * f\n",
    "L"
   ]
  },
  {
   "attachments": {},
   "cell_type": "markdown",
   "metadata": {},
   "source": [
    "## How to visualize values - Graph code"
   ]
  },
  {
   "cell_type": "code",
   "execution_count": 7,
   "metadata": {},
   "outputs": [],
   "source": [
    "from graphviz import Digraph\n",
    "\n",
    "def trace(root):\n",
    "    #Build set of nodes and edges of graph\n",
    "    nodes, edges = set(), set()\n",
    "    def build(v):\n",
    "        if v not in nodes:\n",
    "            nodes.add(v)\n",
    "            for child in v._prev:\n",
    "                edges.add((child, v))\n",
    "                build(child)\n",
    "    build(root)\n",
    "    return nodes, edges\n",
    "\n",
    "def draw_dot(root):\n",
    "    dot = Digraph(format='svg', graph_attr={'rankdir': 'LR'}) #LR = left to right\n",
    "    nodes, edges = trace(root)\n",
    "    for n in nodes:\n",
    "        uid = str(id(n))\n",
    "\n",
    "        #for any value in graph create a rectangular record for it\n",
    "        dot.node(name = uid, label = \"{ %s | data %.4f | grad %.4f}\" % (n.label, n.data, n.grad ), shape = 'record')\n",
    "        if n._op:\n",
    "            #Op nodes\n",
    "            dot.node(name = uid + n._op, label=n._op)\n",
    "            dot.edge(uid + n._op, uid)\n",
    "    for n1, n2 in edges:\n",
    "        dot.edge(str(id(n1)), str(id(n2)) + n2._op)\n",
    "    return dot"
   ]
  },
  {
   "cell_type": "code",
   "execution_count": 14,
   "metadata": {},
   "outputs": [
    {
     "name": "stdout",
     "output_type": "stream",
     "text": [
      "-6.586368000000001\n"
     ]
    }
   ],
   "source": [
    "#Nudge all the values little up to see the gradient effect\n",
    "a.data += 0.01 * a.grad\n",
    "b.data += 0.01 * b.grad\n",
    "c.data += 0.01 * c.grad\n",
    "f.data += 0.01 * f.grad\n",
    "\n",
    "#Forward pass process\n",
    "e = a * b\n",
    "d = e + c\n",
    "L = d * f\n",
    "\n",
    "print(L.data)"
   ]
  },
  {
   "cell_type": "code",
   "execution_count": 13,
   "metadata": {},
   "outputs": [
    {
     "data": {
      "image/svg+xml": "<?xml version=\"1.0\" encoding=\"UTF-8\" standalone=\"no\"?>\n<!DOCTYPE svg PUBLIC \"-//W3C//DTD SVG 1.1//EN\"\n \"http://www.w3.org/Graphics/SVG/1.1/DTD/svg11.dtd\">\n<!-- Generated by graphviz version 7.1.0 (20230121.1956)\n -->\n<!-- Pages: 1 -->\n<svg width=\"1160pt\" height=\"128pt\"\n viewBox=\"0.00 0.00 1160.00 128.00\" xmlns=\"http://www.w3.org/2000/svg\" xmlns:xlink=\"http://www.w3.org/1999/xlink\">\n<g id=\"graph0\" class=\"graph\" transform=\"scale(1 1) rotate(0) translate(4 124)\">\n<polygon fill=\"white\" stroke=\"none\" points=\"-4,4 -4,-124 1156,-124 1156,4 -4,4\"/>\n<!-- 2038775842944 -->\n<g id=\"node1\" class=\"node\">\n<title>2038775842944</title>\n<polygon fill=\"none\" stroke=\"black\" points=\"325.5,-83.5 325.5,-119.5 516.5,-119.5 516.5,-83.5 325.5,-83.5\"/>\n<text text-anchor=\"middle\" x=\"337\" y=\"-97.8\" font-family=\"Times New Roman,serif\" font-size=\"14.00\">c</text>\n<polyline fill=\"none\" stroke=\"black\" points=\"348.5,-83.5 348.5,-119.5\"/>\n<text text-anchor=\"middle\" x=\"389\" y=\"-97.8\" font-family=\"Times New Roman,serif\" font-size=\"14.00\">data 9.9800</text>\n<polyline fill=\"none\" stroke=\"black\" points=\"429.5,-83.5 429.5,-119.5\"/>\n<text text-anchor=\"middle\" x=\"473\" y=\"-97.8\" font-family=\"Times New Roman,serif\" font-size=\"14.00\">grad &#45;2.0000</text>\n</g>\n<!-- 2038809737488+ -->\n<g id=\"node7\" class=\"node\">\n<title>2038809737488+</title>\n<ellipse fill=\"none\" stroke=\"black\" cx=\"582\" cy=\"-73.5\" rx=\"27\" ry=\"18\"/>\n<text text-anchor=\"middle\" x=\"582\" y=\"-69.8\" font-family=\"Times New Roman,serif\" font-size=\"14.00\">+</text>\n</g>\n<!-- 2038775842944&#45;&gt;2038809737488+ -->\n<g id=\"edge4\" class=\"edge\">\n<title>2038775842944&#45;&gt;2038809737488+</title>\n<path fill=\"none\" stroke=\"black\" d=\"M516.33,-84.89C526.26,-83.14 535.87,-81.45 544.51,-79.93\"/>\n<polygon fill=\"black\" stroke=\"black\" points=\"544.9,-83.41 554.14,-78.23 543.68,-76.52 544.9,-83.41\"/>\n</g>\n<!-- 2038809736336 -->\n<g id=\"node2\" class=\"node\">\n<title>2038809736336</title>\n<polygon fill=\"none\" stroke=\"black\" points=\"963,-27.5 963,-63.5 1152,-63.5 1152,-27.5 963,-27.5\"/>\n<text text-anchor=\"middle\" x=\"973\" y=\"-41.8\" font-family=\"Times New Roman,serif\" font-size=\"14.00\"> </text>\n<polyline fill=\"none\" stroke=\"black\" points=\"983,-27.5 983,-63.5\"/>\n<text text-anchor=\"middle\" x=\"1026\" y=\"-41.8\" font-family=\"Times New Roman,serif\" font-size=\"14.00\">data &#45;8.0000</text>\n<polyline fill=\"none\" stroke=\"black\" points=\"1069,-27.5 1069,-63.5\"/>\n<text text-anchor=\"middle\" x=\"1110.5\" y=\"-41.8\" font-family=\"Times New Roman,serif\" font-size=\"14.00\">grad 1.0000</text>\n</g>\n<!-- 2038809736336* -->\n<g id=\"node3\" class=\"node\">\n<title>2038809736336*</title>\n<ellipse fill=\"none\" stroke=\"black\" cx=\"900\" cy=\"-45.5\" rx=\"27\" ry=\"18\"/>\n<text text-anchor=\"middle\" x=\"900\" y=\"-41.8\" font-family=\"Times New Roman,serif\" font-size=\"14.00\">*</text>\n</g>\n<!-- 2038809736336*&#45;&gt;2038809736336 -->\n<g id=\"edge1\" class=\"edge\">\n<title>2038809736336*&#45;&gt;2038809736336</title>\n<path fill=\"none\" stroke=\"black\" d=\"M927.38,-45.5C934.63,-45.5 942.96,-45.5 951.82,-45.5\"/>\n<polygon fill=\"black\" stroke=\"black\" points=\"951.77,-49 961.77,-45.5 951.77,-42 951.77,-49\"/>\n</g>\n<!-- 2038809736960 -->\n<g id=\"node4\" class=\"node\">\n<title>2038809736960</title>\n<polygon fill=\"none\" stroke=\"black\" points=\"323,-28.5 323,-64.5 519,-64.5 519,-28.5 323,-28.5\"/>\n<text text-anchor=\"middle\" x=\"334.5\" y=\"-42.8\" font-family=\"Times New Roman,serif\" font-size=\"14.00\">e</text>\n<polyline fill=\"none\" stroke=\"black\" points=\"346,-28.5 346,-64.5\"/>\n<text text-anchor=\"middle\" x=\"389\" y=\"-42.8\" font-family=\"Times New Roman,serif\" font-size=\"14.00\">data &#45;6.0000</text>\n<polyline fill=\"none\" stroke=\"black\" points=\"432,-28.5 432,-64.5\"/>\n<text text-anchor=\"middle\" x=\"475.5\" y=\"-42.8\" font-family=\"Times New Roman,serif\" font-size=\"14.00\">grad &#45;2.0000</text>\n</g>\n<!-- 2038809736960&#45;&gt;2038809737488+ -->\n<g id=\"edge5\" class=\"edge\">\n<title>2038809736960&#45;&gt;2038809737488+</title>\n<path fill=\"none\" stroke=\"black\" d=\"M518.62,-62.91C527.6,-64.43 536.27,-65.9 544.15,-67.24\"/>\n<polygon fill=\"black\" stroke=\"black\" points=\"543.51,-70.68 553.95,-68.91 544.68,-63.78 543.51,-70.68\"/>\n</g>\n<!-- 2038809736960* -->\n<g id=\"node5\" class=\"node\">\n<title>2038809736960*</title>\n<ellipse fill=\"none\" stroke=\"black\" cx=\"260\" cy=\"-46.5\" rx=\"27\" ry=\"18\"/>\n<text text-anchor=\"middle\" x=\"260\" y=\"-42.8\" font-family=\"Times New Roman,serif\" font-size=\"14.00\">*</text>\n</g>\n<!-- 2038809736960*&#45;&gt;2038809736960 -->\n<g id=\"edge2\" class=\"edge\">\n<title>2038809736960*&#45;&gt;2038809736960</title>\n<path fill=\"none\" stroke=\"black\" d=\"M287.26,-46.5C294.59,-46.5 303.05,-46.5 312.07,-46.5\"/>\n<polygon fill=\"black\" stroke=\"black\" points=\"311.8,-50 321.8,-46.5 311.8,-43 311.8,-50\"/>\n</g>\n<!-- 2038809737488 -->\n<g id=\"node6\" class=\"node\">\n<title>2038809737488</title>\n<polygon fill=\"none\" stroke=\"black\" points=\"645,-55.5 645,-91.5 837,-91.5 837,-55.5 645,-55.5\"/>\n<text text-anchor=\"middle\" x=\"657\" y=\"-69.8\" font-family=\"Times New Roman,serif\" font-size=\"14.00\">d</text>\n<polyline fill=\"none\" stroke=\"black\" points=\"669,-55.5 669,-91.5\"/>\n<text text-anchor=\"middle\" x=\"709.5\" y=\"-69.8\" font-family=\"Times New Roman,serif\" font-size=\"14.00\">data 4.0000</text>\n<polyline fill=\"none\" stroke=\"black\" points=\"750,-55.5 750,-91.5\"/>\n<text text-anchor=\"middle\" x=\"793.5\" y=\"-69.8\" font-family=\"Times New Roman,serif\" font-size=\"14.00\">grad &#45;2.0000</text>\n</g>\n<!-- 2038809737488&#45;&gt;2038809736336* -->\n<g id=\"edge8\" class=\"edge\">\n<title>2038809737488&#45;&gt;2038809736336*</title>\n<path fill=\"none\" stroke=\"black\" d=\"M836.95,-56.57C845.87,-54.98 854.49,-53.44 862.33,-52.04\"/>\n<polygon fill=\"black\" stroke=\"black\" points=\"862.84,-55.5 872.07,-50.3 861.61,-48.61 862.84,-55.5\"/>\n</g>\n<!-- 2038809737488+&#45;&gt;2038809737488 -->\n<g id=\"edge3\" class=\"edge\">\n<title>2038809737488+&#45;&gt;2038809737488</title>\n<path fill=\"none\" stroke=\"black\" d=\"M609.28,-73.5C616.52,-73.5 624.85,-73.5 633.72,-73.5\"/>\n<polygon fill=\"black\" stroke=\"black\" points=\"633.69,-77 643.69,-73.5 633.69,-70 633.69,-77\"/>\n</g>\n<!-- 2038809737584 -->\n<g id=\"node8\" class=\"node\">\n<title>2038809737584</title>\n<polygon fill=\"none\" stroke=\"black\" points=\"646,-0.5 646,-36.5 836,-36.5 836,-0.5 646,-0.5\"/>\n<text text-anchor=\"middle\" x=\"656.5\" y=\"-14.8\" font-family=\"Times New Roman,serif\" font-size=\"14.00\">f</text>\n<polyline fill=\"none\" stroke=\"black\" points=\"667,-0.5 667,-36.5\"/>\n<text text-anchor=\"middle\" x=\"710\" y=\"-14.8\" font-family=\"Times New Roman,serif\" font-size=\"14.00\">data &#45;1.9600</text>\n<polyline fill=\"none\" stroke=\"black\" points=\"753,-0.5 753,-36.5\"/>\n<text text-anchor=\"middle\" x=\"794.5\" y=\"-14.8\" font-family=\"Times New Roman,serif\" font-size=\"14.00\">grad 4.0000</text>\n</g>\n<!-- 2038809737584&#45;&gt;2038809736336* -->\n<g id=\"edge9\" class=\"edge\">\n<title>2038809737584&#45;&gt;2038809736336*</title>\n<path fill=\"none\" stroke=\"black\" d=\"M835.59,-34.6C844.95,-36.2 854,-37.76 862.21,-39.17\"/>\n<polygon fill=\"black\" stroke=\"black\" points=\"861.6,-42.62 872.05,-40.87 862.79,-35.72 861.6,-42.62\"/>\n</g>\n<!-- 2038775848368 -->\n<g id=\"node9\" class=\"node\">\n<title>2038775848368</title>\n<polygon fill=\"none\" stroke=\"black\" points=\"5,-56.5 5,-92.5 192,-92.5 192,-56.5 5,-56.5\"/>\n<text text-anchor=\"middle\" x=\"16.5\" y=\"-70.8\" font-family=\"Times New Roman,serif\" font-size=\"14.00\">a</text>\n<polyline fill=\"none\" stroke=\"black\" points=\"28,-56.5 28,-92.5\"/>\n<text text-anchor=\"middle\" x=\"68.5\" y=\"-70.8\" font-family=\"Times New Roman,serif\" font-size=\"14.00\">data 2.0600</text>\n<polyline fill=\"none\" stroke=\"black\" points=\"109,-56.5 109,-92.5\"/>\n<text text-anchor=\"middle\" x=\"150.5\" y=\"-70.8\" font-family=\"Times New Roman,serif\" font-size=\"14.00\">grad 6.0000</text>\n</g>\n<!-- 2038775848368&#45;&gt;2038809736960* -->\n<g id=\"edge6\" class=\"edge\">\n<title>2038775848368&#45;&gt;2038809736960*</title>\n<path fill=\"none\" stroke=\"black\" d=\"M191.82,-58.29C202.57,-56.41 213.01,-54.57 222.33,-52.94\"/>\n<polygon fill=\"black\" stroke=\"black\" points=\"222.74,-56.42 231.99,-51.24 221.53,-49.52 222.74,-56.42\"/>\n</g>\n<!-- 2038775848944 -->\n<g id=\"node10\" class=\"node\">\n<title>2038775848944</title>\n<polygon fill=\"none\" stroke=\"black\" points=\"0,-1.5 0,-37.5 197,-37.5 197,-1.5 0,-1.5\"/>\n<text text-anchor=\"middle\" x=\"12\" y=\"-15.8\" font-family=\"Times New Roman,serif\" font-size=\"14.00\">b</text>\n<polyline fill=\"none\" stroke=\"black\" points=\"24,-1.5 24,-37.5\"/>\n<text text-anchor=\"middle\" x=\"67\" y=\"-15.8\" font-family=\"Times New Roman,serif\" font-size=\"14.00\">data &#45;3.0400</text>\n<polyline fill=\"none\" stroke=\"black\" points=\"110,-1.5 110,-37.5\"/>\n<text text-anchor=\"middle\" x=\"153.5\" y=\"-15.8\" font-family=\"Times New Roman,serif\" font-size=\"14.00\">grad &#45;4.0000</text>\n</g>\n<!-- 2038775848944&#45;&gt;2038809736960* -->\n<g id=\"edge7\" class=\"edge\">\n<title>2038775848944&#45;&gt;2038809736960*</title>\n<path fill=\"none\" stroke=\"black\" d=\"M196.88,-35.98C205.84,-37.5 214.48,-38.96 222.33,-40.29\"/>\n<polygon fill=\"black\" stroke=\"black\" points=\"221.64,-43.72 232.08,-41.94 222.8,-36.82 221.64,-43.72\"/>\n</g>\n</g>\n</svg>\n",
      "text/plain": [
       "<graphviz.graphs.Digraph at 0x1dab28df940>"
      ]
     },
     "execution_count": 13,
     "metadata": {},
     "output_type": "execute_result"
    }
   ],
   "source": [
    "draw_dot(L)"
   ]
  },
  {
   "cell_type": "code",
   "execution_count": 9,
   "metadata": {},
   "outputs": [],
   "source": [
    "L.grad = 1      #It's logical as dL / L = 1"
   ]
  },
  {
   "cell_type": "code",
   "execution_count": 10,
   "metadata": {},
   "outputs": [
    {
     "name": "stdout",
     "output_type": "stream",
     "text": [
      "6.000000000000227\n"
     ]
    }
   ],
   "source": [
    "#Staging area to review the derivative or gradient function\n",
    "def lol():\n",
    "    h = 0.001\n",
    "\n",
    "    a = Value(2.0, label = 'a')\n",
    "    b = Value(-3.0, label = 'b')\n",
    "    c = Value(10, label = 'c')\n",
    "    e = a * b\n",
    "    e.label = 'e'\n",
    "    d = e + c\n",
    "    d.label = 'd'\n",
    "    f = Value(-2.0, label='f')\n",
    "    L = d * f\n",
    "    L1 = L.data\n",
    "\n",
    "    a = Value(2.0 + h, label = 'a')         #Add h to a\n",
    "    b = Value(-3.0, label = 'b')\n",
    "    c = Value(10, label = 'c')\n",
    "    e = a * b\n",
    "    e.label = 'e'\n",
    "    d = e + c\n",
    "    d.label = 'd'\n",
    "    f = Value(-2.0, label='f')\n",
    "    L = d * f\n",
    "    L2 = L.data\n",
    "\n",
    "    print((L2 - L1) / h)            #Rise / run \n",
    "\n",
    "lol()"
   ]
  },
  {
   "cell_type": "code",
   "execution_count": 11,
   "metadata": {},
   "outputs": [],
   "source": [
    "#Actual manual calculations or by using first principles for derivatives\n",
    "a.grad = -2.0 * -3.0\n",
    "b.grad = -2.0 * 2.0\n",
    "c.grad = -2.0\n",
    "e.grad = -2.0\n",
    "d.grad = -2.0\n",
    "f.grad = 4.0"
   ]
  },
  {
   "attachments": {},
   "cell_type": "markdown",
   "metadata": {},
   "source": [
    "## Some notes\n",
    "\n",
    "derivatives\n",
    "\n",
    "(d / dc) (d) ....... === >>> 1.0\n",
    "\n",
    "(dd / de)    .................. >> 1.0\n",
    "\n",
    "d = c + e\n",
    "\n",
    "(f(x+h) - f(x)) / h\n",
    "\n",
    "=> ((c+h + e) - (c + e)) / h\n",
    "(c + h "
   ]
  },
  {
   "attachments": {},
   "cell_type": "markdown",
   "metadata": {},
   "source": [
    "## Plot some functions"
   ]
  },
  {
   "cell_type": "code",
   "execution_count": 15,
   "metadata": {},
   "outputs": [
    {
     "data": {
      "image/png": "[encoded data removed]",
      "text/plain": [
       "<Figure size 432x288 with 1 Axes>"
      ]
     },
     "metadata": {
      "needs_background": "light"
     },
     "output_type": "display_data"
    }
   ],
   "source": [
    "plt.plot(np.arange(-5, 5, 0.2), np.tanh(np.arange(-5, 5, 0.2)))\n",
    "plt.grid()"
   ]
  }
 ],
 "metadata": {
  "kernelspec": {
   "display_name": "Python 3",
   "language": "python",
   "name": "python3"
  },
  "language_info": {
   "codemirror_mode": {
    "name": "ipython",
    "version": 3
   },
   "file_extension": ".py",
   "mimetype": "text/x-python",
   "name": "python",
   "nbconvert_exporter": "python",
   "pygments_lexer": "ipython3",
   "version": "3.10.4"
  },
  "orig_nbformat": 4
 },
 "nbformat": 4,
 "nbformat_minor": 2
}
